{
  "nbformat": 4,
  "nbformat_minor": 0,
  "metadata": {
    "colab": {
      "provenance": []
    },
    "kernelspec": {
      "name": "python3",
      "display_name": "Python 3"
    },
    "language_info": {
      "name": "python"
    }
  },
  "cells": [
    {
      "cell_type": "markdown",
      "source": [
        "Name: Akshat Sinha\n",
        "\n",
        "Data Science & Business Analytics Intern at The Sparks Foundation\n",
        "\n",
        "Topic: Prediction using Supervised ML\n",
        "\n",
        "Objective: Projected score if a student studies for 9.25 hours"
      ],
      "metadata": {
        "id": "S8wkwb-4sr_B"
      }
    },
    {
      "cell_type": "code",
      "source": [
        "# Importing all libraries required in this notebook\n",
        "import pandas as pd\n",
        "import numpy as np\n",
        "import matplotlib.pyplot as plt\n",
        "%matplotlib inline"
      ],
      "metadata": {
        "id": "7rfP7_4vsslp"
      },
      "execution_count": null,
      "outputs": []
    },
    {
      "cell_type": "code",
      "source": [
        "# Reading data from remote link\n",
        "url = \"http://bit.ly/w-data\"\n",
        "s_data = pd.read_csv(url)\n",
        "print(\"Data imported successfully\")\n",
        "\n",
        "s_data.head(10)"
      ],
      "metadata": {
        "id": "dh5uJEI3sxto"
      },
      "execution_count": null,
      "outputs": []
    },
    {
      "cell_type": "markdown",
      "source": [
        "Data imported successfully"
      ],
      "metadata": {
        "id": "vTlHxf8MtAgw"
      }
    },
    {
      "cell_type": "markdown",
      "source": [
        "   Hours  Scores\n",
        "0    2.5      21\n",
        "1    5.1      47\n",
        "2    3.2      27\n",
        "3    8.5      75\n",
        "4    3.5      30\n",
        "5    1.5      20\n",
        "6    9.2      88\n",
        "7    5.5      60\n",
        "8    8.3      81\n",
        "9    2.7      25"
      ],
      "metadata": {
        "id": "VKy8W1IitCRY"
      }
    },
    {
      "cell_type": "markdown",
      "source": [
        "Let's plot our data points on 2-D graph to eyeball our dataset and see if we can manually find any relationship between the data. We can create the plot with the following script:"
      ],
      "metadata": {
        "id": "bRju7ywQtF4B"
      }
    },
    {
      "cell_type": "code",
      "source": [
        "# Plotting the distribution of scores\n",
        "s_data.plot(x='Hours', y='Scores', style='o')\n",
        "plt.title('Hours vs Percentage')\n",
        "plt.xlabel('Hours Studied')\n",
        "plt.ylabel('Percentage Score')\n",
        "plt.show()"
      ],
      "metadata": {
        "id": "Mg6bRdY8tP5w"
      },
      "execution_count": null,
      "outputs": []
    },
    {
      "cell_type": "markdown",
      "source": [
        "**From the graph above, we can clearly see that there is a positive linear relation between the number of hours studied and percentage of score.**"
      ],
      "metadata": {
        "id": "PyvGTb63tVSR"
      }
    },
    {
      "cell_type": "markdown",
      "source": [
        "### **Preparing the data**\n",
        "\n",
        "The next step is to divide the data into \"attributes\" (inputs) and \"labels\" (outputs)."
      ],
      "metadata": {
        "id": "DIQCFB2gtu_R"
      }
    },
    {
      "cell_type": "markdown",
      "source": [
        "Now that we have our attributes and labels, the next step is to split this data into training and test sets. We'll do this by using Scikit-Learn's built-in train_test_split() method:"
      ],
      "metadata": {
        "id": "AqTc_2WQtyzo"
      }
    },
    {
      "cell_type": "code",
      "source": [
        "from sklearn.model_selection import train_test_split\n",
        "X_train, X_test, y_train, y_test = train_test_split(X, y,\n",
        "                            test_size=0.2, random_state=0)"
      ],
      "metadata": {
        "id": "WH_Aa96Mt1Rz"
      },
      "execution_count": null,
      "outputs": []
    },
    {
      "cell_type": "markdown",
      "source": [
        "### **Training the Algorithm**\n",
        "We have split our data into training and testing sets, and now is finally the time to train our algorithm."
      ],
      "metadata": {
        "id": "w2_Vdy2ot29q"
      }
    },
    {
      "cell_type": "code",
      "source": [
        "from sklearn.linear_model import LinearRegression\n",
        "regressor = LinearRegression()\n",
        "regressor.fit(X_train, y_train)\n",
        "\n",
        "print(\"Training complete.\")"
      ],
      "metadata": {
        "id": "DmyKWy6muCmo"
      },
      "execution_count": null,
      "outputs": []
    },
    {
      "cell_type": "markdown",
      "source": [
        "Training Complete"
      ],
      "metadata": {
        "id": "AeT4awM0uDyp"
      }
    },
    {
      "cell_type": "code",
      "source": [
        "# Plotting the regression line\n",
        "line = regressor.coef_*X+regressor.intercept_\n",
        "\n",
        "# Plotting for the test data\n",
        "plt.scatter(X, y)\n",
        "plt.plot(X, line);\n",
        "plt.show()"
      ],
      "metadata": {
        "id": "05BG6aGIuMXp"
      },
      "execution_count": null,
      "outputs": []
    },
    {
      "cell_type": "markdown",
      "source": [
        "### **Making Predictions**\n",
        "Now that we have trained our algorithm, it's time to make some predictions."
      ],
      "metadata": {
        "id": "yfNzkdX4uPQZ"
      }
    },
    {
      "cell_type": "code",
      "source": [
        "print(X_test) # Testing data - In Hours\n",
        "y_pred = regressor.predict(X_test) # Predicting the scores"
      ],
      "metadata": {
        "id": "xxIim8BwuSOZ"
      },
      "execution_count": null,
      "outputs": []
    },
    {
      "cell_type": "markdown",
      "source": [
        "[[1.5]\n",
        " [3.2]\n",
        " [7.4]\n",
        " [2.5]\n",
        " [5.9]]\n"
      ],
      "metadata": {
        "id": "KjgD1TCCuS2h"
      }
    },
    {
      "cell_type": "code",
      "source": [
        "# Comparing Actual vs Predicted\n",
        "df = pd.DataFrame({'Actual': y_test, 'Predicted': y_pred})\n",
        "df"
      ],
      "metadata": {
        "id": "cSLT9N7suWWp"
      },
      "execution_count": null,
      "outputs": []
    },
    {
      "cell_type": "markdown",
      "source": [
        "   Actual  Predicted\n",
        "0      20  16.884145\n",
        "1      27  33.732261\n",
        "2      69  75.357018\n",
        "3      30  26.794801\n",
        "4      62  60.491033"
      ],
      "metadata": {
        "id": "RLfUHashuYZh"
      }
    },
    {
      "cell_type": "code",
      "source": [
        "# You can also test with your own data\n",
        "hours = 9.25\n",
        "own_pred = regressor.predict(hours)\n",
        "print(\"No of Hours = {}\".format(hours))\n",
        "print(\"Predicted Score = {}\".format(own_pred[0]))"
      ],
      "metadata": {
        "id": "xuyRsbz3ueS4"
      },
      "execution_count": null,
      "outputs": []
    },
    {
      "cell_type": "markdown",
      "source": [
        "No of Hours = 9.25\n",
        "Predicted Score = 93.69173248737539\n"
      ],
      "metadata": {
        "id": "v97yxZXjug-Y"
      }
    },
    {
      "cell_type": "markdown",
      "source": [
        "### **Evaluating the model**\n",
        "\n",
        "The final step is to evaluate the performance of algorithm. This step is particularly important to compare how well different algorithms perform on a particular dataset. For simplicity here, we have chosen the mean square error. There are many such metrics."
      ],
      "metadata": {
        "id": "a9gEcI5ZuiDR"
      }
    },
    {
      "cell_type": "code",
      "source": [
        "from sklearn import metrics\n",
        "print('Mean Absolute Error:',\n",
        "      metrics.mean_absolute_error(y_test, y_pred))"
      ],
      "metadata": {
        "id": "FHMfrZwhukK6"
      },
      "execution_count": null,
      "outputs": []
    },
    {
      "cell_type": "code",
      "source": [
        "Mean Absolute Error: 4.183859899002982"
      ],
      "metadata": {
        "id": "-wKq6WfSunnY"
      },
      "execution_count": null,
      "outputs": []
    }
  ]
}